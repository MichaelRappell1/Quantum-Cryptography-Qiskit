{
 "cells": [
  {
   "cell_type": "markdown",
   "id": "4c00d1b4",
   "metadata": {},
   "source": [
    "# Quantum Crytography"
   ]
  },
  {
   "cell_type": "code",
   "execution_count": 3,
   "id": "b60c6b0f",
   "metadata": {},
   "outputs": [
    {
     "name": "stdout",
     "output_type": "stream",
     "text": [
      "Counts: {'01 00': 240, '11 00': 262, '10 00': 268, '00 00': 230}\n",
      "Powers of 7: [2401, 13841287201, 5764801, 1]\n"
     ]
    }
   ],
   "source": [
    "# Create a 2-qubit quantum circuit\n",
    "n_qubits = 2\n",
    "circuit = QuantumCircuit(n_qubits, n_qubits)\n",
    "\n",
    "# Apply Hadamard gates to create superposition of states\n",
    "for i in range(n_qubits):\n",
    "    circuit.h(i)\n",
    "\n",
    "# Prepare the classical register\n",
    "circuit.measure_all()\n",
    "\n",
    "# Execute the circuit on a quantum simulator\n",
    "simulator = Aer.get_backend('qasm_simulator')\n",
    "transpiled_circuit = transpile(circuit, simulator)\n",
    "job = execute(transpiled_circuit, simulator, shots=1000)\n",
    "result = job.result()\n",
    "\n",
    "# Print the results\n",
    "counts = result.get_counts()\n",
    "print(\"Counts:\", counts)\n",
    "\n",
    "# Remove the space in the keys and convert the binary states to integers\n",
    "exponents = [int(k.replace(\" \", \"\"), 2) for k in counts.keys()]\n",
    "powers_of_seven = [7 ** e for e in exponents]\n",
    "print(\"Powers of 7:\", powers_of_seven)\n"
   ]
  },
  {
   "cell_type": "code",
   "execution_count": 4,
   "id": "4f5430f7",
   "metadata": {},
   "outputs": [
    {
     "data": {
      "text/plain": [
       "49"
      ]
     },
     "execution_count": 4,
     "metadata": {},
     "output_type": "execute_result"
    }
   ],
   "source": [
    "7**2"
   ]
  },
  {
   "cell_type": "code",
   "execution_count": 5,
   "id": "352744d5",
   "metadata": {},
   "outputs": [
    {
     "data": {
      "text/plain": [
       "2401"
      ]
     },
     "execution_count": 5,
     "metadata": {},
     "output_type": "execute_result"
    }
   ],
   "source": [
    "49**2"
   ]
  },
  {
   "cell_type": "code",
   "execution_count": 6,
   "id": "7696a61d",
   "metadata": {},
   "outputs": [
    {
     "data": {
      "text/plain": [
       "5764801"
      ]
     },
     "execution_count": 6,
     "metadata": {},
     "output_type": "execute_result"
    }
   ],
   "source": [
    "2401**2"
   ]
  },
  {
   "cell_type": "code",
   "execution_count": 4,
   "id": "0dafe524",
   "metadata": {},
   "outputs": [],
   "source": [
    "import math\n",
    "import qiskit\n",
    "from qiskit import QuantumCircuit, transpile, Aer\n",
    "from qiskit.visualization import plot_histogram\n",
    "from math import gcd\n",
    "from numpy.random import randint"
   ]
  },
  {
   "cell_type": "code",
   "execution_count": 5,
   "id": "647626fd",
   "metadata": {},
   "outputs": [],
   "source": [
    "# Define the controlled-U gate for a^power mod N\n",
    "def c_amodN(a, power, N):\n",
    "    if power < 0:\n",
    "        raise ValueError(\"'power' must be non-negative\")\n",
    "    n_aux = math.ceil(math.log2(N))  # Number of auxiliary qubits\n",
    "    U = QuantumCircuit(n_aux)  # Create a quantum circuit with n_aux qubits\n",
    "    for _ in range(power):\n",
    "        U.swap(n_aux - 1, n_aux - 2)  # Swap the last two qubits\n",
    "        U.swap(n_aux - 2, n_aux - 3)  # Swap the second and third qubits from the end\n",
    "        # Add controlled-phase gates for each qubit\n",
    "        for q in range(n_aux - 1):\n",
    "            U.append(qiskit.circuit.library.CPhaseGate(a**(2**q) % N), [q, n_aux - 1])\n",
    "    U = U.to_gate()  # Convert the quantum circuit to a gate\n",
    "    U.name = f\"C-U({a}^{power} mod {N})\"\n",
    "    return U"
   ]
  },
  {
   "cell_type": "markdown",
   "id": "165d4cea",
   "metadata": {},
   "source": [
    "This function defines a controlled-U gate for a^power mod N in a quantum circuit. The controlled-U gate represents the modular exponentiation operation used in quantum phase estimation for Shor's algorithm.\n",
    "\n",
    "Here's a breakdown of the code:\n",
    "\n",
    "It checks if the power is non-negative, raising a ValueError if it is negative.\n",
    "It calculates the number of auxiliary qubits needed (n_aux) based on the value of N.\n",
    "It creates a quantum circuit U with n_aux qubits.\n",
    "\n",
    "The function then performs the following operations power times:\n",
    "\n",
    "a. It swaps the last two qubits in the circuit.\n",
    "\n",
    "b. It swaps the second and third qubits from the end.\n",
    "\n",
    "c. For each qubit (except the last one), it adds a controlled-phase gate (CPhaseGate) with an angle corresponding to a^(2^q) % N, where 'a' is the base and 'q' is the qubit index.\n",
    "\n",
    "The quantum circuit U is converted to a gate, and a descriptive name is assigned to the gate.\n",
    "The function returns the created controlled-U gate.\n",
    "\n",
    "The controlled-U gate created by this function is used in the quantum phase estimation circuit, which helps determine the period of the modular exponentiation function a^x mod N, a crucial step in Shor's algorithm for factoring large numbers."
   ]
  },
  {
   "cell_type": "code",
   "execution_count": 7,
   "id": "e6993373",
   "metadata": {},
   "outputs": [],
   "source": [
    "# Define the quantum phase estimation circuit with the controlled-U gate\n",
    "def qpe_amodN(a, N, n_count):\n",
    "    n_aux = math.ceil(math.log2(N))  # Number of auxiliary qubits\n",
    "    qc = QuantumCircuit(n_count + n_aux, n_count)  # Create a quantum circuit with n_count + n_aux qubits and n_count classical bits\n",
    "    for q in range(n_count):\n",
    "        qc.h(q)  # Apply a Hadamard gate on each counting qubit\n",
    "    qc.x(n_count + n_aux - 1)  # Apply an X gate on the last auxiliary qubit\n",
    "\n",
    "    # Add the controlled-U gates for each counting qubit\n",
    "    for q in range(n_count):\n",
    "        qc.append(c_amodN(a, 2 ** q, N), [q] + list(range(n_count, n_count + n_aux - 1)))\n",
    "\n",
    "    # Apply the inverse quantum Fourier transform on the counting qubits\n",
    "    qc.append(qiskit.circuit.library.QFT(n_count, do_swaps=False).inverse(),\n",
    "              range(n_count))\n",
    "    qc.measure(range(n_count), range(n_count))  # Measure the counting qubits\n",
    "    return qc"
   ]
  },
  {
   "cell_type": "code",
   "execution_count": 8,
   "id": "8af4c32c",
   "metadata": {},
   "outputs": [],
   "source": [
    "# Run the quantum phase estimation circuit and get the results\n",
    "def run_qpe_amodN(a, N, n_count):\n",
    "    # Create a quantum phase estimation circuit for 'a' modulo 'N' using 'n_count' qubits\n",
    "    qc = qpe_amodN(a, N, n_count)\n",
    "    \n",
    "    # Get the Aer backend 'aer_simulator' for running the quantum circuit\n",
    "    aer_sim = Aer.get_backend('aer_simulator')\n",
    "    \n",
    "    # Transpile the quantum circuit 'qc' for the 'aer_simulator' backend\n",
    "    t_qc = transpile(qc, aer_sim)\n",
    "    \n",
    "    # Assemble the transpiled quantum circuit 't_qc' into a Qobj with 1000 shots\n",
    "    qobj = qiskit.assemble(t_qc, shots=1000)\n",
    "    \n",
    "    # Run the assembled 'qobj' on the 'aer_simulator' backend and get the result\n",
    "    results = aer_sim.run(qobj).result()\n",
    "    \n",
    "    # Get the counts (measurement outcomes) from the 'results' object\n",
    "    counts = results.get_counts()\n",
    "    \n",
    "    # Return the counts of the circuit execution\n",
    "    return counts"
   ]
  },
  {
   "cell_type": "markdown",
   "id": "215b337d",
   "metadata": {},
   "source": [
    "This function, run_qpe_amodN, takes three input parameters: a, N, and n_count. It creates a quantum phase estimation circuit for 'a' modulo 'N' using 'n_count' qubits, transpiles and assembles the circuit, runs it on the Aer simulator backend with 1000 shots, and returns the counts (measurement outcomes) of the circuit execution."
   ]
  },
  {
   "cell_type": "code",
   "execution_count": 9,
   "id": "89046526",
   "metadata": {},
   "outputs": [],
   "source": [
    "# Convert the results from the phase estimation into an integer\n",
    "def get_amodN_result(a, N, n_count):\n",
    "    # Run the quantum phase estimation circuit and get the counts\n",
    "    counts = run_qpe_amodN(a, N, n_count)\n",
    "    \n",
    "    # Find the phase with the maximum count (highest probability)\n",
    "    phase = max(counts, key=counts.get)\n",
    "    \n",
    "    # Convert the phase to a binary string with leading zeros and length 'n_count'\n",
    "    phase_as_bin = list(format(int(phase), f'0{n_count}b'))\n",
    "\n",
    "    # Initialize the variable 'k' for storing the converted result\n",
    "    k = 0\n",
    "    \n",
    "    # Iterate through the binary string and convert it to an integer\n",
    "    for i in range(n_count):\n",
    "        k = k + int(phase_as_bin.pop(0)) * (2 ** (n_count - i - 1))\n",
    "    \n",
    "    # Return the converted integer value 'k'\n",
    "    return k"
   ]
  },
  {
   "cell_type": "markdown",
   "id": "fa4fdade",
   "metadata": {},
   "source": [
    "This function, get_amodN_result, takes three input parameters: a, N, and n_count. It runs the quantum phase estimation circuit using the run_qpe_amodN function and gets the counts. Then, it finds the phase with the maximum count (highest probability) and converts the phase to a binary string with leading zeros and length n_count. The function iterates through the binary string and converts it to an integer. Finally, it returns the converted integer value 'k'."
   ]
  },
  {
   "cell_type": "code",
   "execution_count": 3,
   "id": "b823dfcb",
   "metadata": {},
   "outputs": [
    {
     "name": "stdout",
     "output_type": "stream",
     "text": [
      "Factors of 77 are (7, 11)\n"
     ]
    }
   ],
   "source": [
    "# Factorize the number N using Shor's algorithm\n",
    "def factorize(N):\n",
    "    n_count = math.ceil(math.log2(N))\n",
    "    n_trials = 10  # Number of trials to find a non-trivial factor (((2 is the minimum with error eventually))) \n",
    "    for _ in range(n_trials):\n",
    "        a = randint(2, N)  # Randomly choose an integer a between 2 and N-1\n",
    "        factor = gcd(a, N)  # Find the greatest common divisor of a and N\n",
    "\n",
    "        # If the greatest common divisor is not 1 or N, we have found a non-trivial factor\n",
    "        if factor != 1 and factor != N:\n",
    "            return factor, N // factor\n",
    "\n",
    "        # Run quantum phase estimation and get the result as an integer\n",
    "        r = get_amodN_result(a, N, n_count)\n",
    "\n",
    "        # If the result is odd, continue with the next trial\n",
    "        if r % 2 != 0:\n",
    "            continue\n",
    "\n",
    "        # Calculate the factors using the result of quantum phase estimation\n",
    "        x = a ** (r // 2) % N\n",
    "        y = (x + 1) % N\n",
    "        factor1 = gcd(x - 1, N)\n",
    "        factor2 = gcd(y, N)\n",
    "\n",
    "        # If we find non-trivial factors, return them\n",
    "        if factor1 != 1 and factor1 != N:\n",
    "            return factor1, N // factor1\n",
    "        if factor2 != 1 and factor2 != N:\n",
    "            return factor2, N // factor2\n",
    "\n",
    "    # If we don't find any factors after n_trials trials, return a message indicating failure\n",
    "    return \"Failed to find factors\"\n",
    "\n",
    "N = 77\n",
    "factors = factorize(N)\n",
    "print(\"Factors of\", N, \"are\", factors)\n",
    "\n"
   ]
  },
  {
   "cell_type": "markdown",
   "id": "d3aaff99",
   "metadata": {},
   "source": [
    "The final section of the code is the main function factorize(N) that combines all the previously defined functions to run Shor's algorithm and find the factors of the given number N. The algorithm is tried for n_trials times, and if a non-trivial factor is found, it is returned. If no factors are found after all trials, a message indicating failure is returned."
   ]
  },
  {
   "cell_type": "code",
   "execution_count": 1,
   "id": "b2dd0573",
   "metadata": {},
   "outputs": [
    {
     "data": {
      "image/png": "[encoded data removed]",
      "text/plain": [
       "<Figure size 206.852x144.48 with 1 Axes>"
      ]
     },
     "execution_count": 1,
     "metadata": {},
     "output_type": "execute_result"
    }
   ],
   "source": [
    "from qiskit import QuantumCircuit\n",
    "from qiskit.visualization import circuit_drawer\n",
    "\n",
    "# Create a simple quantum circuit\n",
    "qc = QuantumCircuit(2)\n",
    "qc.h(0)\n",
    "qc.cx(0, 1)\n",
    "\n",
    "# Draw the circuit using the draw() method\n",
    "qc.draw(output='mpl')\n",
    "\n",
    "# Alternatively, draw the circuit using the circuit_drawer() function\n",
    "circuit_drawer(qc, output='mpl')\n"
   ]
  },
  {
   "cell_type": "code",
   "execution_count": null,
   "id": "582ee4bc",
   "metadata": {},
   "outputs": [],
   "source": []
  }
 ],
 "metadata": {
  "kernelspec": {
   "display_name": "Python 3 (ipykernel)",
   "language": "python",
   "name": "python3"
  },
  "language_info": {
   "codemirror_mode": {
    "name": "ipython",
    "version": 3
   },
   "file_extension": ".py",
   "mimetype": "text/x-python",
   "name": "python",
   "nbconvert_exporter": "python",
   "pygments_lexer": "ipython3",
   "version": "3.8.5"
  }
 },
 "nbformat": 4,
 "nbformat_minor": 5
}
